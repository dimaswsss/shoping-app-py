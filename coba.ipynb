{
 "cells": [
  {
   "cell_type": "code",
   "execution_count": 3,
   "metadata": {
    "collapsed": true,
    "ExecuteTime": {
     "end_time": "2023-06-20T06:44:29.630715Z",
     "start_time": "2023-06-20T06:44:28.821482Z"
    }
   },
   "outputs": [],
   "source": [
    "import pandas as pd"
   ]
  },
  {
   "cell_type": "code",
   "execution_count": 5,
   "outputs": [
    {
     "data": {
      "text/plain": "   col_1  col_2\n0      3      1\n1      2      2\n2      3      3",
      "text/html": "<div>\n<style scoped>\n    .dataframe tbody tr th:only-of-type {\n        vertical-align: middle;\n    }\n\n    .dataframe tbody tr th {\n        vertical-align: top;\n    }\n\n    .dataframe thead th {\n        text-align: right;\n    }\n</style>\n<table border=\"1\" class=\"dataframe\">\n  <thead>\n    <tr style=\"text-align: right;\">\n      <th></th>\n      <th>col_1</th>\n      <th>col_2</th>\n    </tr>\n  </thead>\n  <tbody>\n    <tr>\n      <th>0</th>\n      <td>3</td>\n      <td>1</td>\n    </tr>\n    <tr>\n      <th>1</th>\n      <td>2</td>\n      <td>2</td>\n    </tr>\n    <tr>\n      <th>2</th>\n      <td>3</td>\n      <td>3</td>\n    </tr>\n  </tbody>\n</table>\n</div>"
     },
     "execution_count": 5,
     "metadata": {},
     "output_type": "execute_result"
    }
   ],
   "source": [
    "data = {'col_1': [3, 2, 3],\n",
    "        'col_2': [1, 2, 3]}\n",
    "df = pd.DataFrame.from_dict(data)\n",
    "df"
   ],
   "metadata": {
    "collapsed": false,
    "ExecuteTime": {
     "end_time": "2023-06-20T06:47:23.831633Z",
     "start_time": "2023-06-20T06:47:23.805153Z"
    }
   }
  },
  {
   "cell_type": "code",
   "execution_count": 21,
   "outputs": [
    {
     "data": {
      "text/plain": "    jenis  jumlah  harga\n1   mobil      10  10000\n2   motor      20  20000\n3  sepeda      30  30000",
      "text/html": "<div>\n<style scoped>\n    .dataframe tbody tr th:only-of-type {\n        vertical-align: middle;\n    }\n\n    .dataframe tbody tr th {\n        vertical-align: top;\n    }\n\n    .dataframe thead th {\n        text-align: right;\n    }\n</style>\n<table border=\"1\" class=\"dataframe\">\n  <thead>\n    <tr style=\"text-align: right;\">\n      <th></th>\n      <th>jenis</th>\n      <th>jumlah</th>\n      <th>harga</th>\n    </tr>\n  </thead>\n  <tbody>\n    <tr>\n      <th>1</th>\n      <td>mobil</td>\n      <td>10</td>\n      <td>10000</td>\n    </tr>\n    <tr>\n      <th>2</th>\n      <td>motor</td>\n      <td>20</td>\n      <td>20000</td>\n    </tr>\n    <tr>\n      <th>3</th>\n      <td>sepeda</td>\n      <td>30</td>\n      <td>30000</td>\n    </tr>\n  </tbody>\n</table>\n</div>"
     },
     "execution_count": 21,
     "metadata": {},
     "output_type": "execute_result"
    }
   ],
   "source": [
    "data = {'B1': ['mobil', 10, 10_000],\n",
    "        'B2': ['motor', 20, 20_000],\n",
    "        'B3': ['sepeda', 30, 30_000]}\n",
    "# When using the ‘index’ orientation, the column names can be specified manually\n",
    "df = pd.DataFrame.from_dict(data, orient='index', columns=['jenis', 'jumlah', 'harga'])\n",
    "\n",
    "# auto add index increment\n",
    "df.index = [x for x in range(1, len(df.values)+1)]\n",
    "\n",
    "# set index to jenis item\n",
    "# df.set_index('jenis', inplace=True)\n",
    "\n",
    "df"
   ],
   "metadata": {
    "collapsed": false,
    "ExecuteTime": {
     "end_time": "2023-06-20T07:00:13.443497Z",
     "start_time": "2023-06-20T07:00:13.429624Z"
    }
   }
  },
  {
   "cell_type": "code",
   "execution_count": 23,
   "outputs": [
    {
     "data": {
      "text/plain": "    jenis  jumlah  harga\n0   mobil      10  10000\n1   motor      20  20000\n2  sepeda      30  30000\n3  laptop      40  40000\n4  laptop      40  40000",
      "text/html": "<div>\n<style scoped>\n    .dataframe tbody tr th:only-of-type {\n        vertical-align: middle;\n    }\n\n    .dataframe tbody tr th {\n        vertical-align: top;\n    }\n\n    .dataframe thead th {\n        text-align: right;\n    }\n</style>\n<table border=\"1\" class=\"dataframe\">\n  <thead>\n    <tr style=\"text-align: right;\">\n      <th></th>\n      <th>jenis</th>\n      <th>jumlah</th>\n      <th>harga</th>\n    </tr>\n  </thead>\n  <tbody>\n    <tr>\n      <th>0</th>\n      <td>mobil</td>\n      <td>10</td>\n      <td>10000</td>\n    </tr>\n    <tr>\n      <th>1</th>\n      <td>motor</td>\n      <td>20</td>\n      <td>20000</td>\n    </tr>\n    <tr>\n      <th>2</th>\n      <td>sepeda</td>\n      <td>30</td>\n      <td>30000</td>\n    </tr>\n    <tr>\n      <th>3</th>\n      <td>laptop</td>\n      <td>40</td>\n      <td>40000</td>\n    </tr>\n    <tr>\n      <th>4</th>\n      <td>laptop</td>\n      <td>40</td>\n      <td>40000</td>\n    </tr>\n  </tbody>\n</table>\n</div>"
     },
     "execution_count": 23,
     "metadata": {},
     "output_type": "execute_result"
    }
   ],
   "source": [
    "df = pd.concat([df, pd.DataFrame.from_records([{'jenis': 'laptop', 'jumlah': 40, 'harga': 40_000}])], ignore_index=True)\n",
    "df"
   ],
   "metadata": {
    "collapsed": false,
    "ExecuteTime": {
     "end_time": "2023-06-20T07:07:53.754915Z",
     "start_time": "2023-06-20T07:07:53.727480Z"
    }
   }
  },
  {
   "cell_type": "code",
   "execution_count": 24,
   "outputs": [
    {
     "data": {
      "text/plain": "Empty DataFrame\nColumns: [name, quantity, price@quantity]\nIndex: []",
      "text/html": "<div>\n<style scoped>\n    .dataframe tbody tr th:only-of-type {\n        vertical-align: middle;\n    }\n\n    .dataframe tbody tr th {\n        vertical-align: top;\n    }\n\n    .dataframe thead th {\n        text-align: right;\n    }\n</style>\n<table border=\"1\" class=\"dataframe\">\n  <thead>\n    <tr style=\"text-align: right;\">\n      <th></th>\n      <th>name</th>\n      <th>quantity</th>\n      <th>price@quantity</th>\n    </tr>\n  </thead>\n  <tbody>\n  </tbody>\n</table>\n</div>"
     },
     "execution_count": 24,
     "metadata": {},
     "output_type": "execute_result"
    }
   ],
   "source": [
    "# create empty dataframe with column name\n",
    "df = pd.DataFrame(columns=['name', 'quantity', 'price@quantity'])\n",
    "df"
   ],
   "metadata": {
    "collapsed": false,
    "ExecuteTime": {
     "end_time": "2023-06-20T07:44:29.501854Z",
     "start_time": "2023-06-20T07:44:29.485093Z"
    }
   }
  },
  {
   "cell_type": "code",
   "execution_count": 27,
   "outputs": [
    {
     "data": {
      "text/plain": "    name quantity price@quantity\n0  mobil       10          10000\n1  mobil       10          10000\n2  mobil       10          10000",
      "text/html": "<div>\n<style scoped>\n    .dataframe tbody tr th:only-of-type {\n        vertical-align: middle;\n    }\n\n    .dataframe tbody tr th {\n        vertical-align: top;\n    }\n\n    .dataframe thead th {\n        text-align: right;\n    }\n</style>\n<table border=\"1\" class=\"dataframe\">\n  <thead>\n    <tr style=\"text-align: right;\">\n      <th></th>\n      <th>name</th>\n      <th>quantity</th>\n      <th>price@quantity</th>\n    </tr>\n  </thead>\n  <tbody>\n    <tr>\n      <th>0</th>\n      <td>mobil</td>\n      <td>10</td>\n      <td>10000</td>\n    </tr>\n    <tr>\n      <th>1</th>\n      <td>mobil</td>\n      <td>10</td>\n      <td>10000</td>\n    </tr>\n    <tr>\n      <th>2</th>\n      <td>mobil</td>\n      <td>10</td>\n      <td>10000</td>\n    </tr>\n  </tbody>\n</table>\n</div>"
     },
     "execution_count": 27,
     "metadata": {},
     "output_type": "execute_result"
    }
   ],
   "source": [
    "# add row to dataframe\n",
    "df = pd.concat([df, pd.DataFrame.from_records([{'name': 'mobil', 'quantity': 10, 'price@quantity': 10_000}])], ignore_index=True)\n",
    "# or, df.loc[len(df), ['a','b']] = 1, 2\n",
    "df"
   ],
   "metadata": {
    "collapsed": false,
    "ExecuteTime": {
     "end_time": "2023-06-20T07:44:54.480648Z",
     "start_time": "2023-06-20T07:44:54.459888Z"
    }
   }
  },
  {
   "cell_type": "code",
   "execution_count": null,
   "outputs": [],
   "source": [
    "# drop data\n",
    "# df.drop(df.index, inplace=True)"
   ],
   "metadata": {
    "collapsed": false
   }
  },
  {
   "cell_type": "code",
   "execution_count": 29,
   "outputs": [],
   "source": [
    "def add_data(item: str, quantity: int, price: int):\n",
    "    global df\n",
    "    df = pd.concat([df, pd.DataFrame.from_records([{'name': item, 'quantity': quantity, 'price@quantity': price}])], ignore_index=True)\n",
    "    return df"
   ],
   "metadata": {
    "collapsed": false,
    "ExecuteTime": {
     "end_time": "2023-06-20T07:50:23.191562Z",
     "start_time": "2023-06-20T07:50:23.178701Z"
    }
   }
  },
  {
   "cell_type": "code",
   "execution_count": 49,
   "outputs": [
    {
     "data": {
      "text/plain": "     name quantity price@quantity\n0  sepeda       15           1000\n1   motor        2          30000",
      "text/html": "<div>\n<style scoped>\n    .dataframe tbody tr th:only-of-type {\n        vertical-align: middle;\n    }\n\n    .dataframe tbody tr th {\n        vertical-align: top;\n    }\n\n    .dataframe thead th {\n        text-align: right;\n    }\n</style>\n<table border=\"1\" class=\"dataframe\">\n  <thead>\n    <tr style=\"text-align: right;\">\n      <th></th>\n      <th>name</th>\n      <th>quantity</th>\n      <th>price@quantity</th>\n    </tr>\n  </thead>\n  <tbody>\n    <tr>\n      <th>0</th>\n      <td>sepeda</td>\n      <td>15</td>\n      <td>1000</td>\n    </tr>\n    <tr>\n      <th>1</th>\n      <td>motor</td>\n      <td>2</td>\n      <td>30000</td>\n    </tr>\n  </tbody>\n</table>\n</div>"
     },
     "execution_count": 49,
     "metadata": {},
     "output_type": "execute_result"
    }
   ],
   "source": [
    "add_data('motor', 2, 30_000)"
   ],
   "metadata": {
    "collapsed": false,
    "ExecuteTime": {
     "end_time": "2023-06-20T08:19:02.717793Z",
     "start_time": "2023-06-20T08:19:02.694441Z"
    }
   }
  },
  {
   "cell_type": "code",
   "execution_count": 36,
   "outputs": [],
   "source": [
    "def update_item_name(old_name: str, new_name: str):\n",
    "    global df\n",
    "    df.loc[df['name'] == old_name, 'name'] = new_name\n",
    "    return df"
   ],
   "metadata": {
    "collapsed": false,
    "ExecuteTime": {
     "end_time": "2023-06-20T08:07:02.076801Z",
     "start_time": "2023-06-20T08:07:02.058894Z"
    }
   }
  },
  {
   "cell_type": "code",
   "execution_count": 37,
   "outputs": [
    {
     "data": {
      "text/plain": "         name quantity price@quantity\n0  motorcycle       20          20000",
      "text/html": "<div>\n<style scoped>\n    .dataframe tbody tr th:only-of-type {\n        vertical-align: middle;\n    }\n\n    .dataframe tbody tr th {\n        vertical-align: top;\n    }\n\n    .dataframe thead th {\n        text-align: right;\n    }\n</style>\n<table border=\"1\" class=\"dataframe\">\n  <thead>\n    <tr style=\"text-align: right;\">\n      <th></th>\n      <th>name</th>\n      <th>quantity</th>\n      <th>price@quantity</th>\n    </tr>\n  </thead>\n  <tbody>\n    <tr>\n      <th>0</th>\n      <td>motorcycle</td>\n      <td>20</td>\n      <td>20000</td>\n    </tr>\n  </tbody>\n</table>\n</div>"
     },
     "execution_count": 37,
     "metadata": {},
     "output_type": "execute_result"
    }
   ],
   "source": [
    "update_item_name('motor', 'motorcycle')"
   ],
   "metadata": {
    "collapsed": false,
    "ExecuteTime": {
     "end_time": "2023-06-20T08:07:12.714710Z",
     "start_time": "2023-06-20T08:07:12.689714Z"
    }
   }
  },
  {
   "cell_type": "code",
   "execution_count": 38,
   "outputs": [],
   "source": [
    "def update_item_quantity(item: str, quantity: int):\n",
    "    global df\n",
    "    df.loc[df['name'] == item, 'quantity'] = quantity\n",
    "    return df"
   ],
   "metadata": {
    "collapsed": false,
    "ExecuteTime": {
     "end_time": "2023-06-20T08:07:51.120339Z",
     "start_time": "2023-06-20T08:07:51.099513Z"
    }
   }
  },
  {
   "cell_type": "code",
   "execution_count": 39,
   "outputs": [
    {
     "data": {
      "text/plain": "         name quantity price@quantity\n0  motorcycle       30          20000",
      "text/html": "<div>\n<style scoped>\n    .dataframe tbody tr th:only-of-type {\n        vertical-align: middle;\n    }\n\n    .dataframe tbody tr th {\n        vertical-align: top;\n    }\n\n    .dataframe thead th {\n        text-align: right;\n    }\n</style>\n<table border=\"1\" class=\"dataframe\">\n  <thead>\n    <tr style=\"text-align: right;\">\n      <th></th>\n      <th>name</th>\n      <th>quantity</th>\n      <th>price@quantity</th>\n    </tr>\n  </thead>\n  <tbody>\n    <tr>\n      <th>0</th>\n      <td>motorcycle</td>\n      <td>30</td>\n      <td>20000</td>\n    </tr>\n  </tbody>\n</table>\n</div>"
     },
     "execution_count": 39,
     "metadata": {},
     "output_type": "execute_result"
    }
   ],
   "source": [
    "update_item_quantity('motorcycle', 30)"
   ],
   "metadata": {
    "collapsed": false,
    "ExecuteTime": {
     "end_time": "2023-06-20T08:07:54.617215Z",
     "start_time": "2023-06-20T08:07:54.589718Z"
    }
   }
  },
  {
   "cell_type": "code",
   "execution_count": 40,
   "outputs": [],
   "source": [
    "def update_item_price(item: str, price: int):\n",
    "    global df\n",
    "    df.loc[df['name'] == item, 'price@quantity'] = price\n",
    "    return df"
   ],
   "metadata": {
    "collapsed": false,
    "ExecuteTime": {
     "end_time": "2023-06-20T08:08:02.086898Z",
     "start_time": "2023-06-20T08:08:02.053282Z"
    }
   }
  },
  {
   "cell_type": "code",
   "execution_count": 41,
   "outputs": [
    {
     "data": {
      "text/plain": "         name quantity price@quantity\n0  motorcycle       30          30000",
      "text/html": "<div>\n<style scoped>\n    .dataframe tbody tr th:only-of-type {\n        vertical-align: middle;\n    }\n\n    .dataframe tbody tr th {\n        vertical-align: top;\n    }\n\n    .dataframe thead th {\n        text-align: right;\n    }\n</style>\n<table border=\"1\" class=\"dataframe\">\n  <thead>\n    <tr style=\"text-align: right;\">\n      <th></th>\n      <th>name</th>\n      <th>quantity</th>\n      <th>price@quantity</th>\n    </tr>\n  </thead>\n  <tbody>\n    <tr>\n      <th>0</th>\n      <td>motorcycle</td>\n      <td>30</td>\n      <td>30000</td>\n    </tr>\n  </tbody>\n</table>\n</div>"
     },
     "execution_count": 41,
     "metadata": {},
     "output_type": "execute_result"
    }
   ],
   "source": [
    "update_item_price('motorcycle', 30_000)"
   ],
   "metadata": {
    "collapsed": false,
    "ExecuteTime": {
     "end_time": "2023-06-20T08:08:04.262516Z",
     "start_time": "2023-06-20T08:08:04.239522Z"
    }
   }
  },
  {
   "cell_type": "code",
   "execution_count": 43,
   "outputs": [],
   "source": [
    "def delete_item(item: str):\n",
    "    global df\n",
    "    df.drop(df[df['name'] == item].index, inplace=True)\n",
    "    return df"
   ],
   "metadata": {
    "collapsed": false,
    "ExecuteTime": {
     "end_time": "2023-06-20T08:14:41.064283Z",
     "start_time": "2023-06-20T08:14:41.024297Z"
    }
   }
  },
  {
   "cell_type": "code",
   "execution_count": 44,
   "outputs": [
    {
     "data": {
      "text/plain": "         name quantity price@quantity\n0  motorcycle       30          30000",
      "text/html": "<div>\n<style scoped>\n    .dataframe tbody tr th:only-of-type {\n        vertical-align: middle;\n    }\n\n    .dataframe tbody tr th {\n        vertical-align: top;\n    }\n\n    .dataframe thead th {\n        text-align: right;\n    }\n</style>\n<table border=\"1\" class=\"dataframe\">\n  <thead>\n    <tr style=\"text-align: right;\">\n      <th></th>\n      <th>name</th>\n      <th>quantity</th>\n      <th>price@quantity</th>\n    </tr>\n  </thead>\n  <tbody>\n    <tr>\n      <th>0</th>\n      <td>motorcycle</td>\n      <td>30</td>\n      <td>30000</td>\n    </tr>\n  </tbody>\n</table>\n</div>"
     },
     "execution_count": 44,
     "metadata": {},
     "output_type": "execute_result"
    }
   ],
   "source": [
    "delete_item('sepeda')"
   ],
   "metadata": {
    "collapsed": false,
    "ExecuteTime": {
     "end_time": "2023-06-20T08:14:55.043668Z",
     "start_time": "2023-06-20T08:14:54.995829Z"
    }
   }
  },
  {
   "cell_type": "code",
   "execution_count": 45,
   "outputs": [],
   "source": [
    "def reset_transaction():\n",
    "    global df\n",
    "    df.drop(df.index, inplace=True)\n",
    "    return df"
   ],
   "metadata": {
    "collapsed": false,
    "ExecuteTime": {
     "end_time": "2023-06-20T08:15:31.005433Z",
     "start_time": "2023-06-20T08:15:30.993750Z"
    }
   }
  },
  {
   "cell_type": "code",
   "execution_count": 46,
   "outputs": [
    {
     "data": {
      "text/plain": "Empty DataFrame\nColumns: [name, quantity, price@quantity]\nIndex: []",
      "text/html": "<div>\n<style scoped>\n    .dataframe tbody tr th:only-of-type {\n        vertical-align: middle;\n    }\n\n    .dataframe tbody tr th {\n        vertical-align: top;\n    }\n\n    .dataframe thead th {\n        text-align: right;\n    }\n</style>\n<table border=\"1\" class=\"dataframe\">\n  <thead>\n    <tr style=\"text-align: right;\">\n      <th></th>\n      <th>name</th>\n      <th>quantity</th>\n      <th>price@quantity</th>\n    </tr>\n  </thead>\n  <tbody>\n  </tbody>\n</table>\n</div>"
     },
     "execution_count": 46,
     "metadata": {},
     "output_type": "execute_result"
    }
   ],
   "source": [
    "reset_transaction()"
   ],
   "metadata": {
    "collapsed": false,
    "ExecuteTime": {
     "end_time": "2023-06-20T08:15:33.832359Z",
     "start_time": "2023-06-20T08:15:33.808058Z"
    }
   }
  },
  {
   "cell_type": "code",
   "execution_count": 51,
   "outputs": [],
   "source": [
    "def check_order():\n",
    "    # buat validasi tipe data yang dimasukkan user\n",
    "    return df"
   ],
   "metadata": {
    "collapsed": false,
    "ExecuteTime": {
     "end_time": "2023-06-20T08:30:43.219347Z",
     "start_time": "2023-06-20T08:30:43.207500Z"
    }
   }
  },
  {
   "cell_type": "code",
   "execution_count": 53,
   "outputs": [
    {
     "data": {
      "text/plain": "     name quantity price@quantity\n0  sepeda       15           1000\n1   motor        2          30000",
      "text/html": "<div>\n<style scoped>\n    .dataframe tbody tr th:only-of-type {\n        vertical-align: middle;\n    }\n\n    .dataframe tbody tr th {\n        vertical-align: top;\n    }\n\n    .dataframe thead th {\n        text-align: right;\n    }\n</style>\n<table border=\"1\" class=\"dataframe\">\n  <thead>\n    <tr style=\"text-align: right;\">\n      <th></th>\n      <th>name</th>\n      <th>quantity</th>\n      <th>price@quantity</th>\n    </tr>\n  </thead>\n  <tbody>\n    <tr>\n      <th>0</th>\n      <td>sepeda</td>\n      <td>15</td>\n      <td>1000</td>\n    </tr>\n    <tr>\n      <th>1</th>\n      <td>motor</td>\n      <td>2</td>\n      <td>30000</td>\n    </tr>\n  </tbody>\n</table>\n</div>"
     },
     "execution_count": 53,
     "metadata": {},
     "output_type": "execute_result"
    }
   ],
   "source": [
    "check_order()"
   ],
   "metadata": {
    "collapsed": false,
    "ExecuteTime": {
     "end_time": "2023-06-20T08:30:50.396489Z",
     "start_time": "2023-06-20T08:30:50.367770Z"
    }
   }
  },
  {
   "cell_type": "code",
   "execution_count": 77,
   "outputs": [],
   "source": [
    "def total_price():\n",
    "    total_price = sum(df['quantity'] * df['price@quantity'])\n",
    "    if total_price > 500_000:\n",
    "        total_price *= .90\n",
    "    elif total_price > 300_000:\n",
    "        total_price *= .92\n",
    "    elif total_price > 200_000:\n",
    "        total_price *= .95\n",
    "    return total_price"
   ],
   "metadata": {
    "collapsed": false,
    "ExecuteTime": {
     "end_time": "2023-06-20T08:47:01.028015Z",
     "start_time": "2023-06-20T08:47:01.015652Z"
    }
   }
  },
  {
   "cell_type": "code",
   "execution_count": 78,
   "outputs": [
    {
     "name": "stdout",
     "output_type": "stream",
     "text": [
      "75000\n"
     ]
    }
   ],
   "source": [
    "print(total_price())"
   ],
   "metadata": {
    "collapsed": false,
    "ExecuteTime": {
     "end_time": "2023-06-20T08:47:01.217511Z",
     "start_time": "2023-06-20T08:47:01.207660Z"
    }
   }
  },
  {
   "cell_type": "markdown",
   "source": [
    "# Main"
   ],
   "metadata": {
    "collapsed": false
   }
  },
  {
   "cell_type": "code",
   "execution_count": null,
   "outputs": [],
   "source": [
    "import pandas as pd"
   ],
   "metadata": {
    "collapsed": false
   }
  },
  {
   "cell_type": "code",
   "execution_count": 142,
   "outputs": [],
   "source": [
    "class Transaction:\n",
    "    def __init__(self, name_buyer):\n",
    "        self.name_buyer = name_buyer\n",
    "        self.df = pd.DataFrame(columns=['name', 'quantity', 'price@quantity'])\n",
    "\n",
    "    def add_data(self, item: str, quantity: int, price: int):\n",
    "        self.df = pd.concat([self.df, pd.DataFrame.from_records([{'name': item, 'quantity': quantity, 'price@quantity': price}])], ignore_index=True)\n",
    "        return self.df\n",
    "\n",
    "    def update_item_name(self, old_name: str, new_name: str):\n",
    "        self.df.loc[self.df['name'] == old_name, 'name'] = new_name\n",
    "        return self.df\n",
    "\n",
    "    def update_item_price(self, item: str, price: int):\n",
    "        self.df.loc[self.df['name'] == item, 'price@quantity'] = price\n",
    "        return self.df\n",
    "\n",
    "    def update_item_quantity(self, item: str, quantity: int):\n",
    "        self.df.loc[self.df['name'] == item, 'quantity'] = quantity\n",
    "        return self.df\n",
    "\n",
    "    def delete_item(self, item: str):\n",
    "        self.df.drop(self.df[self.df['name'] == item].index, inplace=True)\n",
    "        return self.df\n",
    "\n",
    "    def reset_transaction(self):\n",
    "        self.df.drop(self.df.index, inplace=True)\n",
    "        return self.df\n",
    "\n",
    "    def check_order(self):\n",
    "        # buat validasi tipe data yang dimasukkan user\n",
    "        return self.df\n",
    "\n",
    "    def total_price(self):\n",
    "        total_price = sum(self.df['quantity'] * self.df['price@quantity'])\n",
    "        if total_price > 500_000:\n",
    "            total_price *= .90\n",
    "        elif total_price > 300_000:\n",
    "            total_price *= .92\n",
    "        elif total_price > 200_000:\n",
    "            total_price *= .95\n",
    "        return total_price"
   ],
   "metadata": {
    "collapsed": false,
    "ExecuteTime": {
     "end_time": "2023-06-20T10:55:53.143393Z",
     "start_time": "2023-06-20T10:55:53.131405Z"
    }
   }
  },
  {
   "cell_type": "code",
   "execution_count": 143,
   "outputs": [
    {
     "name": "stdout",
     "output_type": "stream",
     "text": [
      "------------------------------------------------------------\n",
      "SELAMAT DATANG DI APLIKASI KASIR SEDERHANA\n",
      "------------------------------------------------------------\n",
      "1. Cek Transaksi\n",
      "2. Tambahkan Barang\n",
      "3. Update Barang yang Ingin Dibeli\n",
      "4. Batal Membeli\n",
      "5. Total Belanjaan\n",
      "6. Simpan\n",
      "7. Exit\n",
      "\n",
      "Barang berhasil ditambahkan.\n",
      "Apakah kamu ingin menambahkan barang lagi?\n",
      "Barang berhasil ditambahkan.\n",
      "Apakah kamu ingin menambahkan barang lagi?\n",
      "------------------------------------------------------------\n",
      "SELAMAT DATANG DI APLIKASI KASIR SEDERHANA\n",
      "------------------------------------------------------------\n",
      "1. Cek Transaksi\n",
      "2. Tambahkan Barang\n",
      "3. Update Barang yang Ingin Dibeli\n",
      "4. Batal Membeli\n",
      "5. Total Belanjaan\n",
      "6. Simpan\n",
      "7. Exit\n",
      "\n",
      "Empty DataFrame\n",
      "Columns: [name, quantity, price@quantity]\n",
      "Index: []\n",
      "Input Anda salah.\n",
      "\n",
      "------------------------------------------------------------\n",
      "SELAMAT DATANG DI APLIKASI KASIR SEDERHANA\n",
      "------------------------------------------------------------\n",
      "1. Cek Transaksi\n",
      "2. Tambahkan Barang\n",
      "3. Update Barang yang Ingin Dibeli\n",
      "4. Batal Membeli\n",
      "5. Total Belanjaan\n",
      "6. Simpan\n",
      "7. Exit\n",
      "\n"
     ]
    },
    {
     "ename": "ValueError",
     "evalue": "invalid literal for int() with base 10: ''",
     "output_type": "error",
     "traceback": [
      "\u001B[0;31m---------------------------------------------------------------------------\u001B[0m",
      "\u001B[0;31mValueError\u001B[0m                                Traceback (most recent call last)",
      "\u001B[0;32m/var/folders/87/3ljwls1s0bx5999qxf_f751h0000gn/T/ipykernel_28263/456842750.py\u001B[0m in \u001B[0;36mmain\u001B[0;34m()\u001B[0m\n\u001B[1;32m     22\u001B[0m                 \u001B[0mname_item\u001B[0m \u001B[0;34m=\u001B[0m \u001B[0mstr\u001B[0m\u001B[0;34m(\u001B[0m\u001B[0minput\u001B[0m\u001B[0;34m(\u001B[0m\u001B[0;34m'Masukkan nama barang: '\u001B[0m\u001B[0;34m)\u001B[0m\u001B[0;34m)\u001B[0m\u001B[0;34m\u001B[0m\u001B[0;34m\u001B[0m\u001B[0m\n\u001B[0;32m---> 23\u001B[0;31m                 \u001B[0mquantity\u001B[0m \u001B[0;34m=\u001B[0m \u001B[0mint\u001B[0m\u001B[0;34m(\u001B[0m\u001B[0minput\u001B[0m\u001B[0;34m(\u001B[0m\u001B[0;34m'Masukkan jumlah barang: '\u001B[0m\u001B[0;34m)\u001B[0m\u001B[0;34m)\u001B[0m\u001B[0;34m\u001B[0m\u001B[0;34m\u001B[0m\u001B[0m\n\u001B[0m\u001B[1;32m     24\u001B[0m                 \u001B[0mprice\u001B[0m \u001B[0;34m=\u001B[0m \u001B[0mint\u001B[0m\u001B[0;34m(\u001B[0m\u001B[0minput\u001B[0m\u001B[0;34m(\u001B[0m\u001B[0;34m'Masukkan harga barang: '\u001B[0m\u001B[0;34m)\u001B[0m\u001B[0;34m)\u001B[0m\u001B[0;34m\u001B[0m\u001B[0;34m\u001B[0m\u001B[0m\n",
      "\u001B[0;31mValueError\u001B[0m: invalid literal for int() with base 10: ''",
      "\nDuring handling of the above exception, another exception occurred:\n",
      "\u001B[0;31mValueError\u001B[0m                                Traceback (most recent call last)",
      "\u001B[0;32m/var/folders/87/3ljwls1s0bx5999qxf_f751h0000gn/T/ipykernel_28263/456842750.py\u001B[0m in \u001B[0;36m<module>\u001B[0;34m\u001B[0m\n\u001B[1;32m     85\u001B[0m \u001B[0;32mif\u001B[0m \u001B[0m__name__\u001B[0m \u001B[0;34m==\u001B[0m \u001B[0;34m\"__main__\"\u001B[0m\u001B[0;34m:\u001B[0m\u001B[0;34m\u001B[0m\u001B[0;34m\u001B[0m\u001B[0m\n\u001B[1;32m     86\u001B[0m     \u001B[0mname\u001B[0m \u001B[0;34m=\u001B[0m \u001B[0mstr\u001B[0m\u001B[0;34m(\u001B[0m\u001B[0minput\u001B[0m\u001B[0;34m(\u001B[0m\u001B[0;34m'Masukkan nama kamu: '\u001B[0m\u001B[0;34m)\u001B[0m\u001B[0;34m)\u001B[0m\u001B[0;34m\u001B[0m\u001B[0;34m\u001B[0m\u001B[0m\n\u001B[0;32m---> 87\u001B[0;31m     \u001B[0mmain\u001B[0m\u001B[0;34m(\u001B[0m\u001B[0;34m)\u001B[0m\u001B[0;34m\u001B[0m\u001B[0;34m\u001B[0m\u001B[0m\n\u001B[0m",
      "\u001B[0;32m/var/folders/87/3ljwls1s0bx5999qxf_f751h0000gn/T/ipykernel_28263/456842750.py\u001B[0m in \u001B[0;36mmain\u001B[0;34m()\u001B[0m\n\u001B[1;32m     80\u001B[0m     \u001B[0;32mexcept\u001B[0m\u001B[0;34m:\u001B[0m\u001B[0;34m\u001B[0m\u001B[0;34m\u001B[0m\u001B[0m\n\u001B[1;32m     81\u001B[0m         \u001B[0mprint\u001B[0m\u001B[0;34m(\u001B[0m\u001B[0;34m\"Input Anda salah.\\n\"\u001B[0m\u001B[0;34m)\u001B[0m\u001B[0;34m\u001B[0m\u001B[0;34m\u001B[0m\u001B[0m\n\u001B[0;32m---> 82\u001B[0;31m         \u001B[0mmain\u001B[0m\u001B[0;34m(\u001B[0m\u001B[0;34m)\u001B[0m\u001B[0;34m\u001B[0m\u001B[0;34m\u001B[0m\u001B[0m\n\u001B[0m\u001B[1;32m     83\u001B[0m \u001B[0;34m\u001B[0m\u001B[0m\n\u001B[1;32m     84\u001B[0m \u001B[0;34m\u001B[0m\u001B[0m\n",
      "\u001B[0;32m/var/folders/87/3ljwls1s0bx5999qxf_f751h0000gn/T/ipykernel_28263/456842750.py\u001B[0m in \u001B[0;36mmain\u001B[0;34m()\u001B[0m\n\u001B[1;32m     12\u001B[0m     \u001B[0mprint\u001B[0m\u001B[0;34m(\u001B[0m\u001B[0;34m\"7. Exit\\n\"\u001B[0m\u001B[0;34m)\u001B[0m\u001B[0;34m\u001B[0m\u001B[0;34m\u001B[0m\u001B[0m\n\u001B[1;32m     13\u001B[0m \u001B[0;34m\u001B[0m\u001B[0m\n\u001B[0;32m---> 14\u001B[0;31m     \u001B[0mchoice\u001B[0m \u001B[0;34m=\u001B[0m \u001B[0mint\u001B[0m\u001B[0;34m(\u001B[0m\u001B[0minput\u001B[0m\u001B[0;34m(\u001B[0m\u001B[0;34m'Pilihan? '\u001B[0m\u001B[0;34m)\u001B[0m\u001B[0;34m)\u001B[0m\u001B[0;34m\u001B[0m\u001B[0;34m\u001B[0m\u001B[0m\n\u001B[0m\u001B[1;32m     15\u001B[0m     \u001B[0mtransaction\u001B[0m \u001B[0;34m=\u001B[0m \u001B[0mTransaction\u001B[0m\u001B[0;34m(\u001B[0m\u001B[0mname\u001B[0m\u001B[0;34m)\u001B[0m\u001B[0;34m\u001B[0m\u001B[0;34m\u001B[0m\u001B[0m\n\u001B[1;32m     16\u001B[0m \u001B[0;34m\u001B[0m\u001B[0m\n",
      "\u001B[0;31mValueError\u001B[0m: invalid literal for int() with base 10: ''"
     ]
    }
   ],
   "source": [
    "def main():\n",
    "\n",
    "    print(\"-\"*60)\n",
    "    print(\"SELAMAT DATANG DI APLIKASI KASIR SEDERHANA\")\n",
    "    print(\"-\"*60)\n",
    "    print(\"1. Cek Transaksi\")\n",
    "    print(\"2. Tambahkan Barang\")\n",
    "    print(\"3. Update Barang yang Ingin Dibeli\")\n",
    "    print(\"4. Batal Membeli\")\n",
    "    print(\"5. Total Belanjaan\")\n",
    "    print(\"6. Simpan\")\n",
    "    print(\"7. Exit\\n\")\n",
    "\n",
    "    choice = int(input('Pilihan? '))\n",
    "    transaction = Transaction(name)\n",
    "\n",
    "    try:\n",
    "        if choice == 1:\n",
    "            print(transaction.check_order())\n",
    "        elif choice == 2:\n",
    "            while True:\n",
    "                name_item = str(input('Masukkan nama barang: '))\n",
    "                quantity = int(input('Masukkan jumlah barang: '))\n",
    "                price = int(input('Masukkan harga barang: '))\n",
    "                add_data(name_item, quantity, price)\n",
    "                print('Barang berhasil ditambahkan.')\n",
    "                print('Apakah kamu ingin menambahkan barang lagi?')\n",
    "                choice = str(input('Y/N? '))\n",
    "                if choice == 'N':\n",
    "                    main()\n",
    "        elif choice == 3:\n",
    "            print('1. Update nama barang')\n",
    "            print('2. Update jumlah barang')\n",
    "            print('3. Update harga barang')\n",
    "            choice = int(input('Pilihan? '))\n",
    "            if choice == 1:\n",
    "                old_name = str(input('Masukkan nama barang yang ingin diubah: '))\n",
    "                new_name = str(input('Masukkan nama barang yang baru: '))\n",
    "                update_item_name(old_name, new_name)\n",
    "                print('Nama barang berhasil diubah.')\n",
    "            elif choice == 2:\n",
    "                item = str(input('Masukkan nama barang yang ingin diubah: '))\n",
    "                quantity = int(input('Masukkan jumlah barang yang baru: '))\n",
    "                update_item_quantity(item, quantity)\n",
    "                print('Jumlah barang berhasil diubah.')\n",
    "            elif choice == 3:\n",
    "                item = str(input('Masukkan nama barang yang ingin diubah: '))\n",
    "                price = int(input('Masukkan harga barang yang baru: '))\n",
    "                update_item_price(item, price)\n",
    "                print('Harga barang berhasil diubah.')\n",
    "            else:\n",
    "                print('Input Anda salah.\\n')\n",
    "                main()\n",
    "        elif choice == 4:\n",
    "            print('1. Hapus barang')\n",
    "            print('2. Reset transaksi')\n",
    "            choice = int(input('Pilihan? '))\n",
    "            if choice == 1:\n",
    "                item = str(input('Masukkan nama barang yang ingin dihapus: '))\n",
    "                delete_item(item)\n",
    "                print('Barang berhasil dihapus.')\n",
    "            elif choice == 2:\n",
    "                reset_transaction()\n",
    "                print('Transaksi berhasil direset.')\n",
    "            else:\n",
    "                print('Input Anda salah.\\n')\n",
    "                main()\n",
    "        elif choice == 5:\n",
    "            total_price()\n",
    "        elif choice == 6:\n",
    "            pass\n",
    "        elif choice == 7:\n",
    "            print(\"-\"*60)\n",
    "            print(\"Terima kasih!.\")\n",
    "            print(\"-\"*60)\n",
    "            pass\n",
    "        else:\n",
    "            print(\"Input Anda Salah.\\n\")\n",
    "            main()\n",
    "    except:\n",
    "        print(\"Input Anda salah.\\n\")\n",
    "        main()\n",
    "\n",
    "\n",
    "if __name__ == \"__main__\":\n",
    "    name = str(input('Masukkan nama kamu: '))\n",
    "    main()"
   ],
   "metadata": {
    "collapsed": false,
    "ExecuteTime": {
     "end_time": "2023-06-20T10:57:08.796577Z",
     "start_time": "2023-06-20T10:56:02.957927Z"
    }
   }
  },
  {
   "cell_type": "code",
   "execution_count": null,
   "outputs": [],
   "source": [],
   "metadata": {
    "collapsed": false
   }
  }
 ],
 "metadata": {
  "kernelspec": {
   "display_name": "Python 3",
   "language": "python",
   "name": "python3"
  },
  "language_info": {
   "codemirror_mode": {
    "name": "ipython",
    "version": 2
   },
   "file_extension": ".py",
   "mimetype": "text/x-python",
   "name": "python",
   "nbconvert_exporter": "python",
   "pygments_lexer": "ipython2",
   "version": "2.7.6"
  }
 },
 "nbformat": 4,
 "nbformat_minor": 0
}
